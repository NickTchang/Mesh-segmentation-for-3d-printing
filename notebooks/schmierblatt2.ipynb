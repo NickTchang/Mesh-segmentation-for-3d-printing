{
 "cells": [
  {
   "cell_type": "code",
   "execution_count": 1,
   "id": "neural-thunder",
   "metadata": {},
   "outputs": [],
   "source": [
    "import plotly.graph_objects as go\n",
    "import numpy as np"
   ]
  },
  {
   "cell_type": "code",
   "execution_count": 2,
   "id": "informed-wildlife",
   "metadata": {},
   "outputs": [],
   "source": [
    "with open('Meshes/dumbell.obj', 'r') as reader:\n",
    "    obj_data = reader.read()"
   ]
  },
  {
   "cell_type": "code",
   "execution_count": 3,
   "id": "quick-hanging",
   "metadata": {
    "jupyter": {
     "source_hidden": true
    },
    "tags": []
   },
   "outputs": [],
   "source": [
    "def obj_data_to_mesh3d(odata):\n",
    "    # odata is the string read from an obj file\n",
    "    vertices = []\n",
    "    faces = []\n",
    "    lines = odata.splitlines()   \n",
    "   \n",
    "    for line in lines:\n",
    "        slist = line.split()\n",
    "        if slist:\n",
    "            if slist[0] == 'v':\n",
    "                vertex = np.array(slist[1:], dtype=float)\n",
    "                vertices.append(vertex)\n",
    "            elif slist[0] == 'f':\n",
    "                face = []\n",
    "                for k in range(1, len(slist)):\n",
    "                    face.append([int(s) for s in slist[k].replace('//','/').split('/')])\n",
    "                if len(face) > 3: # triangulate the n-polyonal face, n>3\n",
    "                    faces.extend([[face[0][0]-1, face[k][0]-1, face[k+1][0]-1] for k in range(1, len(face)-1)])\n",
    "                else:    \n",
    "                    faces.append([face[j][0]-1 for j in range(len(face))])\n",
    "            else: pass\n",
    "    \n",
    "    \n",
    "    return np.array(vertices), np.array(faces)   "
   ]
  },
  {
   "cell_type": "code",
   "execution_count": 4,
   "id": "unauthorized-creature",
   "metadata": {},
   "outputs": [],
   "source": [
    "vertices, faces = obj_data_to_mesh3d(obj_data)"
   ]
  },
  {
   "cell_type": "code",
   "execution_count": 5,
   "id": "stopped-least",
   "metadata": {
    "tags": []
   },
   "outputs": [
    {
     "data": {
      "text/plain": [
       "array([[-2.      ,  0.      ,  2.      ],\n",
       "       [-2.      ,  4.      ,  2.      ],\n",
       "       [-2.      ,  0.      ,  0.      ],\n",
       "       [-2.      ,  4.      ,  0.      ],\n",
       "       [ 0.      ,  0.      ,  2.      ],\n",
       "       [ 0.      ,  4.      ,  2.      ],\n",
       "       [ 0.      ,  0.      ,  0.      ],\n",
       "       [ 0.      ,  4.      ,  0.      ],\n",
       "       [-1.549541,  2.      ,  1.549541],\n",
       "       [-1.549541,  2.      ,  0.450459],\n",
       "       [-0.450459,  2.      ,  0.450459],\n",
       "       [-0.450459,  2.      ,  1.549541]])"
      ]
     },
     "execution_count": 5,
     "metadata": {},
     "output_type": "execute_result"
    }
   ],
   "source": [
    "vertices"
   ]
  },
  {
   "cell_type": "code",
   "execution_count": 6,
   "id": "complimentary-toronto",
   "metadata": {
    "tags": []
   },
   "outputs": [
    {
     "data": {
      "text/plain": [
       "array([[ 8,  1,  3],\n",
       "       [ 8,  3,  9],\n",
       "       [ 9,  3,  7],\n",
       "       [ 9,  7, 10],\n",
       "       [10,  7,  5],\n",
       "       [10,  5, 11],\n",
       "       [11,  5,  1],\n",
       "       [11,  1,  8],\n",
       "       [ 2,  6,  4],\n",
       "       [ 2,  4,  0],\n",
       "       [ 7,  3,  1],\n",
       "       [ 7,  1,  5],\n",
       "       [ 4, 11,  8],\n",
       "       [ 4,  8,  0],\n",
       "       [ 6, 10, 11],\n",
       "       [ 6, 11,  4],\n",
       "       [ 2,  9, 10],\n",
       "       [ 2, 10,  6],\n",
       "       [ 0,  8,  9],\n",
       "       [ 0,  9,  2]])"
      ]
     },
     "execution_count": 6,
     "metadata": {},
     "output_type": "execute_result"
    }
   ],
   "source": [
    "faces"
   ]
  },
  {
   "cell_type": "code",
   "execution_count": 7,
   "id": "collectible-madrid",
   "metadata": {},
   "outputs": [],
   "source": [
    "def edges_from_faces(faces):\n",
    "    # eine liste von kanten, definiert durch indized von zwei benachbarten faces\n",
    "    # bsp:[[1,2],[5,6]] face[1] und face[2] sind benachbart \n",
    "    # und sollten jeweils zwei vertexe haben, die sie gemeinsamm haben\n",
    "    edges_byface = []\n",
    "    edges_byvertex = []\n",
    "    for i,face1 in enumerate(faces):\n",
    "        if(i==faces.size-1):\n",
    "            break\n",
    "        neighbor_count = 0\n",
    "        for j, face2 in enumerate(faces[i+1:,]):\n",
    "            intersect = np.intersect1d(face1,face2)\n",
    "            if (intersect.size == 2):\n",
    "                # edges.append(intersect) fuer eine list von kanten dargestellt mit vertexe\n",
    "                # unten wird eine Kante mit zwei faces dargestellt\n",
    "                edges_byface.append([i,i+j+1])\n",
    "                edges_byvertex.append(intersect.tolist())\n",
    "                neighbor_count += 1\n",
    "            if(neighbor_count == 3):\n",
    "                break\n",
    "    return np.array(edges_byface), np.array(edges_byvertex)         "
   ]
  },
  {
   "cell_type": "code",
   "execution_count": 8,
   "id": "opened-usage",
   "metadata": {},
   "outputs": [
    {
     "data": {
      "text/plain": [
       "(30, 2)"
      ]
     },
     "execution_count": 8,
     "metadata": {},
     "output_type": "execute_result"
    }
   ],
   "source": [
    "edges_byface, edges_byvertex= edges_from_faces(faces)\n",
    "edges_byface.shape"
   ]
  },
  {
   "cell_type": "code",
   "execution_count": 9,
   "id": "affiliated-archive",
   "metadata": {
    "tags": []
   },
   "outputs": [
    {
     "data": {
      "text/plain": [
       "array([[ 0,  1],\n",
       "       [ 0,  7],\n",
       "       [ 0, 10],\n",
       "       [ 1,  2],\n",
       "       [ 1, 18],\n",
       "       [ 2,  3],\n",
       "       [ 2, 10],\n",
       "       [ 3,  4],\n",
       "       [ 3, 16],\n",
       "       [ 4,  5],\n",
       "       [ 4, 11],\n",
       "       [ 5,  6],\n",
       "       [ 5, 14],\n",
       "       [ 6,  7],\n",
       "       [ 6, 11],\n",
       "       [ 7, 12],\n",
       "       [ 8,  9],\n",
       "       [ 8, 15],\n",
       "       [ 8, 17],\n",
       "       [ 9, 13],\n",
       "       [ 9, 19],\n",
       "       [10, 11],\n",
       "       [12, 13],\n",
       "       [12, 15],\n",
       "       [13, 18],\n",
       "       [14, 15],\n",
       "       [14, 17],\n",
       "       [16, 17],\n",
       "       [16, 19],\n",
       "       [18, 19]])"
      ]
     },
     "execution_count": 9,
     "metadata": {},
     "output_type": "execute_result"
    }
   ],
   "source": [
    "edges_byface"
   ]
  },
  {
   "cell_type": "code",
   "execution_count": 11,
   "id": "falling-remove",
   "metadata": {},
   "outputs": [
    {
     "data": {
      "text/plain": [
       "array([[ 3,  8],\n",
       "       [ 1,  8],\n",
       "       [ 1,  3],\n",
       "       [ 3,  9],\n",
       "       [ 8,  9],\n",
       "       [ 7,  9],\n",
       "       [ 3,  7],\n",
       "       [ 7, 10],\n",
       "       [ 9, 10],\n",
       "       [ 5, 10],\n",
       "       [ 5,  7],\n",
       "       [ 5, 11],\n",
       "       [10, 11],\n",
       "       [ 1, 11],\n",
       "       [ 1,  5],\n",
       "       [ 8, 11],\n",
       "       [ 2,  4],\n",
       "       [ 4,  6],\n",
       "       [ 2,  6],\n",
       "       [ 0,  4],\n",
       "       [ 0,  2],\n",
       "       [ 1,  7],\n",
       "       [ 4,  8],\n",
       "       [ 4, 11],\n",
       "       [ 0,  8],\n",
       "       [ 6, 11],\n",
       "       [ 6, 10],\n",
       "       [ 2, 10],\n",
       "       [ 2,  9],\n",
       "       [ 0,  9]])"
      ]
     },
     "execution_count": 11,
     "metadata": {},
     "output_type": "execute_result"
    }
   ],
   "source": [
    "edges_byvertex"
   ]
  },
  {
   "cell_type": "code",
   "execution_count": 17,
   "id": "favorite-brighton",
   "metadata": {
    "collapsed": true,
    "jupyter": {
     "outputs_hidden": true
    },
    "tags": []
   },
   "outputs": [
    {
     "data": {
      "text/plain": [
       "array([[[-2.      ,  4.      ,  0.      ],\n",
       "        [-1.549541,  2.      ,  1.549541]],\n",
       "\n",
       "       [[-2.      ,  4.      ,  2.      ],\n",
       "        [-1.549541,  2.      ,  1.549541]],\n",
       "\n",
       "       [[-2.      ,  4.      ,  2.      ],\n",
       "        [-2.      ,  4.      ,  0.      ]],\n",
       "\n",
       "       [[-2.      ,  4.      ,  0.      ],\n",
       "        [-1.549541,  2.      ,  0.450459]],\n",
       "\n",
       "       [[-1.549541,  2.      ,  1.549541],\n",
       "        [-1.549541,  2.      ,  0.450459]],\n",
       "\n",
       "       [[ 0.      ,  4.      ,  0.      ],\n",
       "        [-1.549541,  2.      ,  0.450459]],\n",
       "\n",
       "       [[-2.      ,  4.      ,  0.      ],\n",
       "        [ 0.      ,  4.      ,  0.      ]],\n",
       "\n",
       "       [[ 0.      ,  4.      ,  0.      ],\n",
       "        [-0.450459,  2.      ,  0.450459]],\n",
       "\n",
       "       [[-1.549541,  2.      ,  0.450459],\n",
       "        [-0.450459,  2.      ,  0.450459]],\n",
       "\n",
       "       [[ 0.      ,  4.      ,  2.      ],\n",
       "        [-0.450459,  2.      ,  0.450459]],\n",
       "\n",
       "       [[ 0.      ,  4.      ,  2.      ],\n",
       "        [ 0.      ,  4.      ,  0.      ]],\n",
       "\n",
       "       [[ 0.      ,  4.      ,  2.      ],\n",
       "        [-0.450459,  2.      ,  1.549541]],\n",
       "\n",
       "       [[-0.450459,  2.      ,  0.450459],\n",
       "        [-0.450459,  2.      ,  1.549541]],\n",
       "\n",
       "       [[-2.      ,  4.      ,  2.      ],\n",
       "        [-0.450459,  2.      ,  1.549541]],\n",
       "\n",
       "       [[-2.      ,  4.      ,  2.      ],\n",
       "        [ 0.      ,  4.      ,  2.      ]],\n",
       "\n",
       "       [[-1.549541,  2.      ,  1.549541],\n",
       "        [-0.450459,  2.      ,  1.549541]],\n",
       "\n",
       "       [[-2.      ,  0.      ,  0.      ],\n",
       "        [ 0.      ,  0.      ,  2.      ]],\n",
       "\n",
       "       [[ 0.      ,  0.      ,  2.      ],\n",
       "        [ 0.      ,  0.      ,  0.      ]],\n",
       "\n",
       "       [[-2.      ,  0.      ,  0.      ],\n",
       "        [ 0.      ,  0.      ,  0.      ]],\n",
       "\n",
       "       [[-2.      ,  0.      ,  2.      ],\n",
       "        [ 0.      ,  0.      ,  2.      ]],\n",
       "\n",
       "       [[-2.      ,  0.      ,  2.      ],\n",
       "        [-2.      ,  0.      ,  0.      ]],\n",
       "\n",
       "       [[-2.      ,  4.      ,  2.      ],\n",
       "        [ 0.      ,  4.      ,  0.      ]],\n",
       "\n",
       "       [[ 0.      ,  0.      ,  2.      ],\n",
       "        [-1.549541,  2.      ,  1.549541]],\n",
       "\n",
       "       [[ 0.      ,  0.      ,  2.      ],\n",
       "        [-0.450459,  2.      ,  1.549541]],\n",
       "\n",
       "       [[-2.      ,  0.      ,  2.      ],\n",
       "        [-1.549541,  2.      ,  1.549541]],\n",
       "\n",
       "       [[ 0.      ,  0.      ,  0.      ],\n",
       "        [-0.450459,  2.      ,  1.549541]],\n",
       "\n",
       "       [[ 0.      ,  0.      ,  0.      ],\n",
       "        [-0.450459,  2.      ,  0.450459]],\n",
       "\n",
       "       [[-2.      ,  0.      ,  0.      ],\n",
       "        [-0.450459,  2.      ,  0.450459]],\n",
       "\n",
       "       [[-2.      ,  0.      ,  0.      ],\n",
       "        [-1.549541,  2.      ,  0.450459]],\n",
       "\n",
       "       [[-2.      ,  0.      ,  2.      ],\n",
       "        [-1.549541,  2.      ,  0.450459]]])"
      ]
     },
     "execution_count": 17,
     "metadata": {},
     "output_type": "execute_result"
    }
   ],
   "source": [
    "edges = vertices[edges_byvertex]\n",
    "edges"
   ]
  },
  {
   "cell_type": "code",
   "execution_count": 15,
   "id": "continental-murray",
   "metadata": {
    "tags": []
   },
   "outputs": [
    {
     "data": {
      "text/plain": [
       "array([[[-1.549541,  2.      ,  1.549541],\n",
       "        [-2.      ,  4.      ,  2.      ],\n",
       "        [-2.      ,  4.      ,  0.      ]],\n",
       "\n",
       "       [[-1.549541,  2.      ,  1.549541],\n",
       "        [-2.      ,  4.      ,  0.      ],\n",
       "        [-1.549541,  2.      ,  0.450459]],\n",
       "\n",
       "       [[-1.549541,  2.      ,  0.450459],\n",
       "        [-2.      ,  4.      ,  0.      ],\n",
       "        [ 0.      ,  4.      ,  0.      ]],\n",
       "\n",
       "       [[-1.549541,  2.      ,  0.450459],\n",
       "        [ 0.      ,  4.      ,  0.      ],\n",
       "        [-0.450459,  2.      ,  0.450459]],\n",
       "\n",
       "       [[-0.450459,  2.      ,  0.450459],\n",
       "        [ 0.      ,  4.      ,  0.      ],\n",
       "        [ 0.      ,  4.      ,  2.      ]],\n",
       "\n",
       "       [[-0.450459,  2.      ,  0.450459],\n",
       "        [ 0.      ,  4.      ,  2.      ],\n",
       "        [-0.450459,  2.      ,  1.549541]],\n",
       "\n",
       "       [[-0.450459,  2.      ,  1.549541],\n",
       "        [ 0.      ,  4.      ,  2.      ],\n",
       "        [-2.      ,  4.      ,  2.      ]],\n",
       "\n",
       "       [[-0.450459,  2.      ,  1.549541],\n",
       "        [-2.      ,  4.      ,  2.      ],\n",
       "        [-1.549541,  2.      ,  1.549541]],\n",
       "\n",
       "       [[-2.      ,  0.      ,  0.      ],\n",
       "        [ 0.      ,  0.      ,  0.      ],\n",
       "        [ 0.      ,  0.      ,  2.      ]],\n",
       "\n",
       "       [[-2.      ,  0.      ,  0.      ],\n",
       "        [ 0.      ,  0.      ,  2.      ],\n",
       "        [-2.      ,  0.      ,  2.      ]],\n",
       "\n",
       "       [[ 0.      ,  4.      ,  0.      ],\n",
       "        [-2.      ,  4.      ,  0.      ],\n",
       "        [-2.      ,  4.      ,  2.      ]],\n",
       "\n",
       "       [[ 0.      ,  4.      ,  0.      ],\n",
       "        [-2.      ,  4.      ,  2.      ],\n",
       "        [ 0.      ,  4.      ,  2.      ]],\n",
       "\n",
       "       [[ 0.      ,  0.      ,  2.      ],\n",
       "        [-0.450459,  2.      ,  1.549541],\n",
       "        [-1.549541,  2.      ,  1.549541]],\n",
       "\n",
       "       [[ 0.      ,  0.      ,  2.      ],\n",
       "        [-1.549541,  2.      ,  1.549541],\n",
       "        [-2.      ,  0.      ,  2.      ]],\n",
       "\n",
       "       [[ 0.      ,  0.      ,  0.      ],\n",
       "        [-0.450459,  2.      ,  0.450459],\n",
       "        [-0.450459,  2.      ,  1.549541]],\n",
       "\n",
       "       [[ 0.      ,  0.      ,  0.      ],\n",
       "        [-0.450459,  2.      ,  1.549541],\n",
       "        [ 0.      ,  0.      ,  2.      ]],\n",
       "\n",
       "       [[-2.      ,  0.      ,  0.      ],\n",
       "        [-1.549541,  2.      ,  0.450459],\n",
       "        [-0.450459,  2.      ,  0.450459]],\n",
       "\n",
       "       [[-2.      ,  0.      ,  0.      ],\n",
       "        [-0.450459,  2.      ,  0.450459],\n",
       "        [ 0.      ,  0.      ,  0.      ]],\n",
       "\n",
       "       [[-2.      ,  0.      ,  2.      ],\n",
       "        [-1.549541,  2.      ,  1.549541],\n",
       "        [-1.549541,  2.      ,  0.450459]],\n",
       "\n",
       "       [[-2.      ,  0.      ,  2.      ],\n",
       "        [-1.549541,  2.      ,  0.450459],\n",
       "        [-2.      ,  0.      ,  0.      ]]])"
      ]
     },
     "execution_count": 15,
     "metadata": {},
     "output_type": "execute_result"
    }
   ],
   "source": [
    "tris = vertices[faces]\n",
    "tris"
   ]
  },
  {
   "cell_type": "code",
   "execution_count": null,
   "id": "recognized-moldova",
   "metadata": {},
   "outputs": [],
   "source": [
    "def angular_distance(edges,):\n",
    "    \n",
    "    "
   ]
  },
  {
   "cell_type": "code",
   "execution_count": null,
   "id": "american-founder",
   "metadata": {},
   "outputs": [],
   "source": [
    "n = np.cross( tris[::,1 ] - tris[::,0]  , tris[::,2 ] - tris[::,0] )\n",
    "n"
   ]
  },
  {
   "cell_type": "code",
   "execution_count": null,
   "id": "severe-holiday",
   "metadata": {},
   "outputs": [],
   "source": [
    "def normalize_v3(arr):\n",
    "    lens = np.sqrt( arr[:,0]**2 + arr[:,1]**2 + arr[:,2]**2 )\n",
    "    arr[:,0] /= lens\n",
    "    arr[:,1] /= lens\n",
    "    arr[:,2] /= lens                \n",
    "    return arr"
   ]
  },
  {
   "cell_type": "code",
   "execution_count": null,
   "id": "encouraging-environment",
   "metadata": {},
   "outputs": [],
   "source": [
    "normalize_v3(n)"
   ]
  },
  {
   "cell_type": "code",
   "execution_count": null,
   "id": "chronic-philip",
   "metadata": {},
   "outputs": [],
   "source": []
  }
 ],
 "metadata": {
  "kernelspec": {
   "display_name": "Python 3",
   "language": "python",
   "name": "python3"
  },
  "language_info": {
   "codemirror_mode": {
    "name": "ipython",
    "version": 3
   },
   "file_extension": ".py",
   "mimetype": "text/x-python",
   "name": "python",
   "nbconvert_exporter": "python",
   "pygments_lexer": "ipython3",
   "version": "3.9.1"
  }
 },
 "nbformat": 4,
 "nbformat_minor": 5
}
