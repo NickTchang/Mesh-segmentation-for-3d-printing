{
 "cells": [
  {
   "cell_type": "code",
   "execution_count": 1,
   "id": "public-airplane",
   "metadata": {},
   "outputs": [],
   "source": [
    "import numpy as np\n",
    "np.set_printoptions(linewidth=300)"
   ]
  },
  {
   "cell_type": "code",
   "execution_count": 2,
   "id": "collectible-bathroom",
   "metadata": {
    "tags": []
   },
   "outputs": [
    {
     "name": "stdout",
     "output_type": "stream",
     "text": [
      "[[5 0 0 0 0 0 0 0 0 0]\n",
      " [0 2 0 0 0 0 0 0 0 0]\n",
      " [0 0 2 0 0 0 0 0 0 0]\n",
      " [0 0 0 2 0 0 0 0 0 0]\n",
      " [0 0 0 0 2 0 0 0 0 0]\n",
      " [0 0 0 0 0 5 0 0 0 0]\n",
      " [0 0 0 0 0 0 2 0 0 0]\n",
      " [0 0 0 0 0 0 0 2 0 0]\n",
      " [0 0 0 0 0 0 0 0 2 0]\n",
      " [0 0 0 0 0 0 0 0 0 2]]\n"
     ]
    }
   ],
   "source": [
    "A = np.array([\n",
    "  [0, 1, 1, 0, 0, 1, 0, 0, 1, 1],\n",
    "  [1, 0, 1, 0, 0, 0, 0, 0, 0, 0],\n",
    "  [1, 1, 0, 0, 0, 0, 0, 0, 0, 0],\n",
    "  [0, 0, 0, 0, 1, 1, 0, 0, 0, 0],\n",
    "  [0, 0, 0, 1, 0, 1, 0, 0, 0, 0],\n",
    "  [1, 0, 0, 1, 1, 0, 1, 1, 0, 0],\n",
    "  [0, 0, 0, 0, 0, 1, 0, 1, 0, 0],\n",
    "  [0, 0, 0, 0, 0, 1, 1, 0, 0, 0],\n",
    "  [1, 0, 0, 0, 0, 0, 0, 0, 0, 1],\n",
    "  [1, 0, 0, 0, 0, 0, 0, 0, 1, 0]])\n",
    "\n",
    "D = np.diag(A.sum(axis=1))\n",
    "print(D)"
   ]
  },
  {
   "cell_type": "code",
   "execution_count": 3,
   "id": "mental-generator",
   "metadata": {
    "tags": []
   },
   "outputs": [
    {
     "name": "stdout",
     "output_type": "stream",
     "text": [
      "[[ 5 -1 -1  0  0 -1  0  0 -1 -1]\n",
      " [-1  2 -1  0  0  0  0  0  0  0]\n",
      " [-1 -1  2  0  0  0  0  0  0  0]\n",
      " [ 0  0  0  2 -1 -1  0  0  0  0]\n",
      " [ 0  0  0 -1  2 -1  0  0  0  0]\n",
      " [-1  0  0 -1 -1  5 -1 -1  0  0]\n",
      " [ 0  0  0  0  0 -1  2 -1  0  0]\n",
      " [ 0  0  0  0  0 -1 -1  2  0  0]\n",
      " [-1  0  0  0  0  0  0  0  2 -1]\n",
      " [-1  0  0  0  0  0  0  0 -1  2]]\n"
     ]
    }
   ],
   "source": [
    "L = D-A\n",
    "print(L)"
   ]
  },
  {
   "cell_type": "code",
   "execution_count": 4,
   "id": "abroad-european",
   "metadata": {},
   "outputs": [],
   "source": [
    "# L = np.array([[ 2.94303553 ,-0.73575888 , 0.        , -0.73575888 ,-0.73575888 ,-0.73575888],\n",
    "#  [-0.73575888 , 2.94303553, -0.73575888 , 0.         ,-0.73575888 ,-0.73575888],\n",
    "#  [ 0.        , -0.73575888 , 2.94303553, -0.73575888 ,-0.73575888, -0.73575888],\n",
    "#  [-0.73575888,  0.         ,-0.73575888 , 2.94303553 ,-0.73575888 ,-0.73575888],\n",
    "#  [-0.73575888 ,-0.73575888 ,-0.73575888, -0.73575888 , 2.94303553 , 0.        ],\n",
    "#  [-0.73575888, -0.73575888 ,-0.73575888 ,-0.73575888 , 0.         , 2.94303553]])"
   ]
  },
  {
   "cell_type": "code",
   "execution_count": 5,
   "id": "legendary-architecture",
   "metadata": {},
   "outputs": [],
   "source": [
    "vals, vecs = np.linalg.eig(L)"
   ]
  },
  {
   "cell_type": "code",
   "execution_count": 6,
   "id": "portable-composer",
   "metadata": {},
   "outputs": [],
   "source": [
    "sorted_valsindex = np.argsort(vals)"
   ]
  },
  {
   "cell_type": "code",
   "execution_count": 7,
   "id": "adapted-reputation",
   "metadata": {},
   "outputs": [],
   "source": [
    "vecs = vecs[:,sorted_valsindex]\n",
    "vals = vals[sorted_valsindex]"
   ]
  },
  {
   "cell_type": "code",
   "execution_count": 8,
   "id": "brief-shoot",
   "metadata": {},
   "outputs": [
    {
     "data": {
      "text/plain": [
       "array([-2.54963072e-16,  2.98437881e-01,  1.00000000e+00,  1.00000000e+00,  3.00000000e+00,  3.00000000e+00,  3.00000000e+00,  3.00000000e+00,  5.00000000e+00,  6.70156212e+00])"
      ]
     },
     "execution_count": 8,
     "metadata": {},
     "output_type": "execute_result"
    }
   ],
   "source": [
    "vals"
   ]
  },
  {
   "cell_type": "code",
   "execution_count": 9,
   "id": "sunrise-sullivan",
   "metadata": {
    "tags": []
   },
   "outputs": [
    {
     "data": {
      "text/plain": [
       "array([[ 3.16227766e-01,  2.34057253e-01,  1.79797189e-16, -3.31980002e-17, -1.83096341e-17, -2.30895137e-17,  2.60612071e-18, -6.67875472e-19, -6.32455532e-01,  6.67245983e-01],\n",
       "       [ 3.16227766e-01,  3.33622992e-01, -4.99934074e-01,  9.66226208e-02, -4.23621856e-02,  7.05622358e-01,  4.28068208e-02,  1.52799761e-01,  1.58113883e-01, -1.17028626e-01],\n",
       "       [ 3.16227766e-01,  3.33622992e-01, -4.99934074e-01,  9.66226208e-02,  4.23621856e-02, -7.05622358e-01, -4.28068208e-02, -1.52799761e-01,  1.58113883e-01, -1.17028626e-01],\n",
       "       [ 3.16227766e-01, -3.33622992e-01,  8.11924196e-03, -4.90575243e-01,  7.04888157e-01,  4.57939795e-02, -5.03825979e-02, -1.07667557e-01,  1.58113883e-01,  1.17028626e-01],\n",
       "       [ 3.16227766e-01, -3.33622992e-01,  8.11924196e-03, -4.90575243e-01, -7.04888157e-01, -4.57939795e-02,  5.03825979e-02,  1.07667557e-01,  1.58113883e-01,  1.17028626e-01],\n",
       "       [ 3.16227766e-01, -2.34057253e-01, -6.71572298e-17, -6.20706936e-17, -1.57029593e-17,  3.16351730e-16,  3.99291136e-17,  7.17959123e-17, -6.32455532e-01, -6.67245983e-01],\n",
       "       [ 3.16227766e-01, -3.33622992e-01, -8.11924196e-03,  4.90575243e-01,  8.87206781e-03,  8.20233187e-17,  6.90936684e-01, -1.28631662e-01,  1.58113883e-01,  1.17028626e-01],\n",
       "       [ 3.16227766e-01, -3.33622992e-01, -8.11924196e-03,  4.90575243e-01, -8.87206781e-03,  9.06969361e-17, -6.90936684e-01,  1.28631662e-01,  1.58113883e-01,  1.17028626e-01],\n",
       "       [ 3.16227766e-01,  3.33622992e-01,  4.99934074e-01, -9.66226208e-02,  3.54882712e-02, -5.33867302e-17, -1.35039506e-01, -6.69711748e-01,  1.58113883e-01, -1.17028626e-01],\n",
       "       [ 3.16227766e-01,  3.33622992e-01,  4.99934074e-01, -9.66226208e-02, -3.54882712e-02, -5.33867302e-17,  1.35039506e-01,  6.69711748e-01,  1.58113883e-01, -1.17028626e-01]])"
      ]
     },
     "execution_count": 9,
     "metadata": {},
     "output_type": "execute_result"
    }
   ],
   "source": [
    "vecs"
   ]
  },
  {
   "cell_type": "code",
   "execution_count": 10,
   "id": "nonprofit-fishing",
   "metadata": {},
   "outputs": [
    {
     "data": {
      "text/plain": [
       "array([-0.    ,  0.2984,  1.    ,  1.    ,  3.    ,  3.    ,  3.    ,  3.    ,  5.    ,  6.7016])"
      ]
     },
     "execution_count": 10,
     "metadata": {},
     "output_type": "execute_result"
    }
   ],
   "source": [
    "round_vals = np.round(vals, 4)\n",
    "round_vals"
   ]
  },
  {
   "cell_type": "code",
   "execution_count": 11,
   "id": "naval-empty",
   "metadata": {
    "tags": []
   },
   "outputs": [
    {
     "data": {
      "text/plain": [
       "array([[ 0.3162,  0.2341,  0.    , -0.    , -0.    , -0.    ,  0.    , -0.    , -0.6325,  0.6672],\n",
       "       [ 0.3162,  0.3336, -0.4999,  0.0966, -0.0424,  0.7056,  0.0428,  0.1528,  0.1581, -0.117 ],\n",
       "       [ 0.3162,  0.3336, -0.4999,  0.0966,  0.0424, -0.7056, -0.0428, -0.1528,  0.1581, -0.117 ],\n",
       "       [ 0.3162, -0.3336,  0.0081, -0.4906,  0.7049,  0.0458, -0.0504, -0.1077,  0.1581,  0.117 ],\n",
       "       [ 0.3162, -0.3336,  0.0081, -0.4906, -0.7049, -0.0458,  0.0504,  0.1077,  0.1581,  0.117 ],\n",
       "       [ 0.3162, -0.2341, -0.    , -0.    , -0.    ,  0.    ,  0.    ,  0.    , -0.6325, -0.6672],\n",
       "       [ 0.3162, -0.3336, -0.0081,  0.4906,  0.0089,  0.    ,  0.6909, -0.1286,  0.1581,  0.117 ],\n",
       "       [ 0.3162, -0.3336, -0.0081,  0.4906, -0.0089,  0.    , -0.6909,  0.1286,  0.1581,  0.117 ],\n",
       "       [ 0.3162,  0.3336,  0.4999, -0.0966,  0.0355, -0.    , -0.135 , -0.6697,  0.1581, -0.117 ],\n",
       "       [ 0.3162,  0.3336,  0.4999, -0.0966, -0.0355, -0.    ,  0.135 ,  0.6697,  0.1581, -0.117 ]])"
      ]
     },
     "execution_count": 11,
     "metadata": {},
     "output_type": "execute_result"
    }
   ],
   "source": [
    "round_vecs = np.round(vecs, 4)\n",
    "round_vecs"
   ]
  },
  {
   "cell_type": "code",
   "execution_count": 12,
   "id": "hired-diagram",
   "metadata": {},
   "outputs": [
    {
     "data": {
      "text/plain": [
       "array([ 0.2341,  0.3336,  0.3336, -0.3336, -0.3336, -0.2341, -0.3336, -0.3336,  0.3336,  0.3336])"
      ]
     },
     "execution_count": 12,
     "metadata": {},
     "output_type": "execute_result"
    }
   ],
   "source": [
    "fiedler_vector = round_vecs[:,1]\n",
    "fiedler_vector"
   ]
  },
  {
   "cell_type": "code",
   "execution_count": 13,
   "id": "distant-ballot",
   "metadata": {},
   "outputs": [],
   "source": [
    "phi = np.argsort(fiedler_vector)\n",
    "phi_inv = np.argsort(phi)"
   ]
  },
  {
   "cell_type": "code",
   "execution_count": 14,
   "id": "sudden-soviet",
   "metadata": {},
   "outputs": [],
   "source": [
    "sorted_fiedler_vector = fiedler_vector[phi]"
   ]
  },
  {
   "cell_type": "code",
   "execution_count": 15,
   "id": "working-judgment",
   "metadata": {},
   "outputs": [
    {
     "data": {
      "text/plain": [
       "array([-0.3336, -0.3336, -0.3336, -0.3336, -0.2341,  0.2341,  0.3336,  0.3336,  0.3336,  0.3336])"
      ]
     },
     "execution_count": 15,
     "metadata": {},
     "output_type": "execute_result"
    }
   ],
   "source": [
    "sorted_fiedler_vector"
   ]
  },
  {
   "cell_type": "code",
   "execution_count": 16,
   "id": "fitting-renewal",
   "metadata": {},
   "outputs": [
    {
     "data": {
      "text/plain": [
       "array([0.    , 0.    , 0.    , 0.0995, 0.4682, 0.0995, 0.    , 0.    , 0.    ])"
      ]
     },
     "execution_count": 16,
     "metadata": {},
     "output_type": "execute_result"
    }
   ],
   "source": [
    "first_diff = np.diff(fiedler_vector[phi])\n",
    "first_diff"
   ]
  },
  {
   "cell_type": "code",
   "execution_count": 17,
   "id": "laden-battle",
   "metadata": {},
   "outputs": [],
   "source": [
    "k = 3"
   ]
  },
  {
   "cell_type": "code",
   "execution_count": 18,
   "id": "prompt-royal",
   "metadata": {},
   "outputs": [
    {
     "data": {
      "text/plain": [
       "array([4, 3, 5, 0, 1, 2, 6, 7, 8], dtype=int64)"
      ]
     },
     "execution_count": 18,
     "metadata": {},
     "output_type": "execute_result"
    }
   ],
   "source": [
    "jump_index_tmp = np.argsort(-(first_diff))\n",
    "jump_index_tmp"
   ]
  },
  {
   "cell_type": "code",
   "execution_count": 19,
   "id": "standing-orange",
   "metadata": {},
   "outputs": [
    {
     "data": {
      "text/plain": [
       "array([ 0,  4,  5, 10], dtype=int64)"
      ]
     },
     "execution_count": 19,
     "metadata": {},
     "output_type": "execute_result"
    }
   ],
   "source": [
    "jump_index = jump_index_tmp[:k-1]\n",
    "jump_index = jump_index[np.argsort(jump_index)]\n",
    "jump_index = jump_index +1 \n",
    "jump_index = np.insert(jump_index,0,0)\n",
    "jump_index = np.append(jump_index,10)# stat 10 face count\n",
    "jump_index"
   ]
  },
  {
   "cell_type": "code",
   "execution_count": 20,
   "id": "offensive-halloween",
   "metadata": {},
   "outputs": [
    {
     "data": {
      "text/plain": [
       "array([-0.3336, -0.2341,  0.3137])"
      ]
     },
     "execution_count": 20,
     "metadata": {},
     "output_type": "execute_result"
    }
   ],
   "source": [
    "c = np.zeros(k)\n",
    "for i in range(k):\n",
    "    ctmp = np.sum(sorted_fiedler_vector[jump_index[i]:jump_index[i+1]])\n",
    "    c[i] = ctmp/(jump_index[i+1]-jump_index[i])\n",
    "c"
   ]
  },
  {
   "cell_type": "code",
   "execution_count": 21,
   "id": "unlikely-arena",
   "metadata": {},
   "outputs": [
    {
     "data": {
      "text/plain": [
       "array([-0.3336, -0.3336, -0.3336, -0.3336, -0.2341,  0.3137,  0.3137,  0.3137,  0.3137,  0.3137])"
      ]
     },
     "execution_count": 21,
     "metadata": {},
     "output_type": "execute_result"
    }
   ],
   "source": [
    "u_snake_sorted = np.repeat(c,np.diff(jump_index))\n",
    "u_snake_sorted"
   ]
  },
  {
   "cell_type": "code",
   "execution_count": 22,
   "id": "seven-protection",
   "metadata": {},
   "outputs": [
    {
     "data": {
      "text/plain": [
       "array([ 0.3137,  0.3137,  0.3137, -0.3336, -0.3336, -0.2341, -0.3336, -0.3336,  0.3137,  0.3137])"
      ]
     },
     "execution_count": 22,
     "metadata": {},
     "output_type": "execute_result"
    }
   ],
   "source": [
    "u_snake = u_snake_sorted[phi_inv]\n",
    "u_snake"
   ]
  },
  {
   "cell_type": "code",
   "execution_count": 23,
   "id": "coral-nursing",
   "metadata": {},
   "outputs": [
    {
     "data": {
      "text/plain": [
       "array([2, 2, 2, 0, 0, 1, 0, 0, 2, 2])"
      ]
     },
     "execution_count": 23,
     "metadata": {},
     "output_type": "execute_result"
    }
   ],
   "source": [
    "#zur visualisierung\n",
    "ctemp = np.array(range(k))\n",
    "u_snake_sorted_tmp = np.repeat(ctemp,np.diff(jump_index))\n",
    "u_snake_sorted_tmp[phi_inv]"
   ]
  },
  {
   "cell_type": "code",
   "execution_count": null,
   "id": "tested-crack",
   "metadata": {},
   "outputs": [],
   "source": []
  }
 ],
 "metadata": {
  "kernelspec": {
   "display_name": "Python 3",
   "language": "python",
   "name": "python3"
  },
  "language_info": {
   "codemirror_mode": {
    "name": "ipython",
    "version": 3
   },
   "file_extension": ".py",
   "mimetype": "text/x-python",
   "name": "python",
   "nbconvert_exporter": "python",
   "pygments_lexer": "ipython3",
   "version": "3.9.1"
  }
 },
 "nbformat": 4,
 "nbformat_minor": 5
}
