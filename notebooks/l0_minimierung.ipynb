{
 "cells": [
  {
   "cell_type": "markdown",
   "id": "ce06683e-76d4-407f-9e38-da5d1a47f710",
   "metadata": {},
   "source": [
    "# vorbereitung"
   ]
  },
  {
   "cell_type": "code",
   "execution_count": 1,
   "id": "42176d01-fedd-41b8-a176-ccbbd3257894",
   "metadata": {
    "tags": []
   },
   "outputs": [],
   "source": [
    "import numpy as np\n",
    "import trimesh as tm\n",
    "import pandas\n",
    "import matplotlib.pyplot as plt\n",
    "import plotly.graph_objects as go\n",
    "import plotly.express as px\n",
    "import numpy as np\n",
    "import networkx as nx\n",
    "import sys\n",
    "from sklearn.cluster import SpectralClustering\n",
    "from sklearn import metrics\n",
    "from scripts import Segmentation_helper as sh\n",
    "import scipy.sparse\n",
    "import scipy.linalg\n",
    "#np.set_printoptions(threshold=sys.maxsize)\n",
    "np.set_printoptions(linewidth=400)"
   ]
  },
  {
   "cell_type": "code",
   "execution_count": 2,
   "id": "236bc5b0-d4ef-464b-8ecd-5a9bea354fed",
   "metadata": {
    "tags": []
   },
   "outputs": [],
   "source": [
    "dumbell = tm.load(\"../Meshes/dumbell.stl\", force='mesh')\n",
    "box = tm.load(\"../Meshes/box.ply\", force='mesh')\n",
    "airplane = tm.load(\"../Meshes/MeshsegBenchmark-1.0/data/off/61.off\", force='mesh')\n",
    "bearing = tm.load(\"../Meshes/MeshsegBenchmark-1.0/data/off/341.off\", force='mesh')\n",
    "bunny = tm.load(\"../Meshes/bunny10k_solid.obj\", force='mesh')\n",
    "plane_part_1 = tm.load(\"../Meshes/plane_part_1.stl\", force='mesh')"
   ]
  },
  {
   "cell_type": "code",
   "execution_count": 3,
   "id": "e8644e29-e147-4014-8a62-ff8f2e642721",
   "metadata": {},
   "outputs": [],
   "source": [
    "mesh = box\n",
    "n_segments = 2\n",
    "save_submeshes = True\n",
    "file_location = '../submeshes'"
   ]
  },
  {
   "cell_type": "markdown",
   "id": "926c147b-6766-49e5-ba1a-7a5abf620868",
   "metadata": {},
   "source": [
    "# Mesh bearbeitung\n",
    "## coarse segmentation"
   ]
  },
  {
   "cell_type": "markdown",
   "id": "d5295b8a-f388-4502-8ee8-6dc58f8e9233",
   "metadata": {},
   "source": [
    "### angular distance"
   ]
  },
  {
   "cell_type": "code",
   "execution_count": 4,
   "id": "0a4cff5a-0e7d-49c3-a5bd-6d8bc99ed5b9",
   "metadata": {
    "tags": []
   },
   "outputs": [],
   "source": [
    "convex_list= mesh.face_adjacency_convex.copy().tolist()"
   ]
  },
  {
   "cell_type": "code",
   "execution_count": 5,
   "id": "620421d4-409a-4a05-9486-dec9068d3c6c",
   "metadata": {},
   "outputs": [],
   "source": [
    "face_angle = mesh.face_adjacency_angles.copy()"
   ]
  },
  {
   "cell_type": "code",
   "execution_count": 6,
   "id": "c35d7202-0fc7-45a5-aad4-e5487ccf1bb0",
   "metadata": {},
   "outputs": [],
   "source": [
    "angular_distance_1 = (1+np.cos(face_angle.round(3).copy())).round(3)"
   ]
  },
  {
   "cell_type": "code",
   "execution_count": 7,
   "id": "50b8fa39-4900-455c-b041-14869897a934",
   "metadata": {},
   "outputs": [],
   "source": [
    "mu = 0.1\n",
    "for i in range(len(convex_list)):\n",
    "    if convex_list[i]:\n",
    "        angular_distance_1[i] *= mu"
   ]
  },
  {
   "cell_type": "code",
   "execution_count": 8,
   "id": "e00d2621-9bbb-4bb8-9555-b0171a30558f",
   "metadata": {},
   "outputs": [],
   "source": [
    "norm_angular_distance_1 = angular_distance_1/angular_distance_1.mean()"
   ]
  },
  {
   "cell_type": "code",
   "execution_count": 9,
   "id": "90139921-3f1a-43ed-ac69-c6f4c297ecfd",
   "metadata": {},
   "outputs": [],
   "source": [
    "vector = np.subtract(*mesh.vertices[mesh.face_adjacency_edges.T])"
   ]
  },
  {
   "cell_type": "code",
   "execution_count": 10,
   "id": "95923857-2d0c-4094-bebe-d70458b5989d",
   "metadata": {},
   "outputs": [],
   "source": [
    "length = tm.util.row_norm(vector)"
   ]
  },
  {
   "cell_type": "code",
   "execution_count": 11,
   "id": "e813735a-5e2e-4571-b629-70c88f98cca2",
   "metadata": {},
   "outputs": [],
   "source": [
    "similarity_factor = np.exp(-1*norm_angular_distance_1)"
   ]
  },
  {
   "cell_type": "code",
   "execution_count": 12,
   "id": "083c8abd-f32b-44d0-a618-da0a1f67c9d1",
   "metadata": {},
   "outputs": [],
   "source": [
    "similarity_factor = (similarity_factor*length).round(3)"
   ]
  },
  {
   "cell_type": "markdown",
   "id": "929c020e-81be-4947-9369-14783b0aef63",
   "metadata": {},
   "source": [
    "### adjacenz matrix"
   ]
  },
  {
   "cell_type": "code",
   "execution_count": 13,
   "id": "eb9826a0-314d-4959-985d-f2409f8fd509",
   "metadata": {},
   "outputs": [],
   "source": [
    "graph = nx.from_edgelist(mesh.face_adjacency)"
   ]
  },
  {
   "cell_type": "code",
   "execution_count": 14,
   "id": "514ab966-731d-4af2-ba70-c2bb65962e51",
   "metadata": {},
   "outputs": [],
   "source": [
    "edge_weight = dict(zip([tuple(x) for x in mesh.face_adjacency],similarity_factor))"
   ]
  },
  {
   "cell_type": "code",
   "execution_count": 15,
   "id": "c4c1ae62-bba7-4fb0-ba27-f6ff4b557fae",
   "metadata": {},
   "outputs": [],
   "source": [
    "nx.set_edge_attributes(graph, values = edge_weight, name = 'weight')"
   ]
  },
  {
   "cell_type": "code",
   "execution_count": 16,
   "id": "d547269a-c1dd-4a32-97bc-a3c467c63db0",
   "metadata": {},
   "outputs": [],
   "source": [
    "adj_matrix = nx.to_numpy_matrix(graph, nodelist=sorted(graph.nodes()))"
   ]
  },
  {
   "cell_type": "markdown",
   "id": "49706253-30b8-41de-b51f-e886e7e4d677",
   "metadata": {},
   "source": [
    "### laplace Matrix"
   ]
  },
  {
   "cell_type": "code",
   "execution_count": 17,
   "id": "5c51b5dd-9447-4294-b318-f5945b9e33d7",
   "metadata": {},
   "outputs": [
    {
     "data": {
      "text/plain": [
       "matrix([[ 2.521,  0.   , -0.945,  0.   ,  0.   , -0.945, -0.631,  0.   ,  0.   ,  0.   ,  0.   ,  0.   ],\n",
       "        [ 0.   ,  2.521,  0.   ,  0.   ,  0.   ,  0.   , -0.945, -0.631,  0.   ,  0.   , -0.945,  0.   ],\n",
       "        [-0.945,  0.   ,  2.521,  0.   ,  0.   ,  0.   ,  0.   , -0.945, -0.631,  0.   ,  0.   ,  0.   ],\n",
       "        [ 0.   ,  0.   ,  0.   ,  2.521,  0.   ,  0.   ,  0.   ,  0.   ,  0.   , -0.631, -0.945, -0.945],\n",
       "        [ 0.   ,  0.   ,  0.   ,  0.   ,  2.521,  0.   , -0.945,  0.   ,  0.   ,  0.   , -0.631, -0.945],\n",
       "        [-0.945,  0.   ,  0.   ,  0.   ,  0.   ,  2.521,  0.   ,  0.   , -0.945,  0.   ,  0.   , -0.631],\n",
       "        [-0.631, -0.945,  0.   ,  0.   , -0.945,  0.   ,  2.521,  0.   ,  0.   ,  0.   ,  0.   ,  0.   ],\n",
       "        [ 0.   , -0.631, -0.945,  0.   ,  0.   ,  0.   ,  0.   ,  2.521,  0.   , -0.945,  0.   ,  0.   ],\n",
       "        [ 0.   ,  0.   , -0.631,  0.   ,  0.   , -0.945,  0.   ,  0.   ,  2.521, -0.945,  0.   ,  0.   ],\n",
       "        [ 0.   ,  0.   ,  0.   , -0.631,  0.   ,  0.   ,  0.   , -0.945, -0.945,  2.521,  0.   ,  0.   ],\n",
       "        [ 0.   , -0.945,  0.   , -0.945, -0.631,  0.   ,  0.   ,  0.   ,  0.   ,  0.   ,  2.521,  0.   ],\n",
       "        [ 0.   ,  0.   ,  0.   , -0.945, -0.945, -0.631,  0.   ,  0.   ,  0.   ,  0.   ,  0.   ,  2.521]])"
      ]
     },
     "execution_count": 17,
     "metadata": {},
     "output_type": "execute_result"
    }
   ],
   "source": [
    "# laplacian mit scipy ausrechenen\n",
    "adj_matrix_sparce = nx.to_scipy_sparse_matrix(graph, nodelist=sorted(graph.nodes()))\n",
    "test = scipy.sparse.csgraph.laplacian(adj_matrix_sparce, normed=False)\n",
    "test.todense()"
   ]
  },
  {
   "cell_type": "code",
   "execution_count": 18,
   "id": "c2a97ffe-6da3-43ee-a915-fdbe991c919a",
   "metadata": {},
   "outputs": [
    {
     "data": {
      "text/plain": [
       "matrix([[ 2.521,  0.   , -0.945,  0.   ,  0.   , -0.945, -0.631,  0.   ,  0.   ,  0.   ,  0.   ,  0.   ],\n",
       "        [ 0.   ,  2.521,  0.   ,  0.   ,  0.   ,  0.   , -0.945, -0.631,  0.   ,  0.   , -0.945,  0.   ],\n",
       "        [-0.945,  0.   ,  2.521,  0.   ,  0.   ,  0.   ,  0.   , -0.945, -0.631,  0.   ,  0.   ,  0.   ],\n",
       "        [ 0.   ,  0.   ,  0.   ,  2.521,  0.   ,  0.   ,  0.   ,  0.   ,  0.   , -0.631, -0.945, -0.945],\n",
       "        [ 0.   ,  0.   ,  0.   ,  0.   ,  2.521,  0.   , -0.945,  0.   ,  0.   ,  0.   , -0.631, -0.945],\n",
       "        [-0.945,  0.   ,  0.   ,  0.   ,  0.   ,  2.521,  0.   ,  0.   , -0.945,  0.   ,  0.   , -0.631],\n",
       "        [-0.631, -0.945,  0.   ,  0.   , -0.945,  0.   ,  2.521,  0.   ,  0.   ,  0.   ,  0.   ,  0.   ],\n",
       "        [ 0.   , -0.631, -0.945,  0.   ,  0.   ,  0.   ,  0.   ,  2.521,  0.   , -0.945,  0.   ,  0.   ],\n",
       "        [ 0.   ,  0.   , -0.631,  0.   ,  0.   , -0.945,  0.   ,  0.   ,  2.521, -0.945,  0.   ,  0.   ],\n",
       "        [ 0.   ,  0.   ,  0.   , -0.631,  0.   ,  0.   ,  0.   , -0.945, -0.945,  2.521,  0.   ,  0.   ],\n",
       "        [ 0.   , -0.945,  0.   , -0.945, -0.631,  0.   ,  0.   ,  0.   ,  0.   ,  0.   ,  2.521,  0.   ],\n",
       "        [ 0.   ,  0.   ,  0.   , -0.945, -0.945, -0.631,  0.   ,  0.   ,  0.   ,  0.   ,  0.   ,  2.521]])"
      ]
     },
     "execution_count": 18,
     "metadata": {},
     "output_type": "execute_result"
    }
   ],
   "source": [
    "# lap mit networkx ausrechnen, beides aequivalent\n",
    "lap = nx.linalg.laplacianmatrix.laplacian_matrix(G = graph, nodelist=sorted(graph.nodes()))\n",
    "lap.todense()"
   ]
  },
  {
   "cell_type": "markdown",
   "id": "f01961d5-b7a4-447f-a19c-77adc805cddd",
   "metadata": {},
   "source": [
    "### u_snake ausrechen"
   ]
  },
  {
   "cell_type": "code",
   "execution_count": 19,
   "id": "7cfea99e-2680-4165-800a-db1376e6f522",
   "metadata": {},
   "outputs": [],
   "source": [
    "vals, vecs = scipy.sparse.linalg.eigsh(lap, k = 2, which = 'SM')"
   ]
  },
  {
   "cell_type": "code",
   "execution_count": 20,
   "id": "19b64568-219e-40ed-919f-e2b3fe20f00c",
   "metadata": {},
   "outputs": [],
   "source": [
    "vals = vals.round(3)\n",
    "vecs = vecs.round(3)"
   ]
  },
  {
   "cell_type": "code",
   "execution_count": 21,
   "id": "401eccb2-8d12-47e8-96bd-6f2a2c9be107",
   "metadata": {},
   "outputs": [
    {
     "data": {
      "text/plain": [
       "array([-0.235,  0.235, -0.374,  0.235,  0.374, -0.235,  0.235, -0.235, -0.374, -0.235,  0.374,  0.235])"
      ]
     },
     "execution_count": 21,
     "metadata": {},
     "output_type": "execute_result"
    }
   ],
   "source": [
    "fiedler_vector = vecs[:,1]\n",
    "fiedler_vector"
   ]
  },
  {
   "cell_type": "code",
   "execution_count": 22,
   "id": "bef6f992-7d6f-4140-936d-7ab184768549",
   "metadata": {},
   "outputs": [],
   "source": [
    "phi = np.argsort(fiedler_vector)\n",
    "phi_inv = np.argsort(phi)"
   ]
  },
  {
   "cell_type": "code",
   "execution_count": 23,
   "id": "f090ea6f-e673-4ad3-ac65-8a0e837b77a2",
   "metadata": {},
   "outputs": [],
   "source": [
    "sorted_fiedler_vector = fiedler_vector[phi]\n",
    "first_diff = np.diff(fiedler_vector[phi])"
   ]
  },
  {
   "cell_type": "code",
   "execution_count": 28,
   "id": "d9fa531a-df96-4a10-9264-572bb9f4f279",
   "metadata": {},
   "outputs": [],
   "source": [
    "jump_index_tmp = np.argsort(-(first_diff))\n",
    "jump_index = jump_index_tmp[:n_segments-1]\n",
    "jump_index = jump_index[np.argsort(jump_index)]\n",
    "jump_index = jump_index +1 \n",
    "jump_index = np.insert(jump_index,0,0)\n",
    "jump_index = np.append(jump_index,len(mesh.faces))\n",
    "\n",
    "c = np.zeros(n_segments)\n",
    "for i in range(n_segments):\n",
    "    ctmp = np.sum(sorted_fiedler_vector[jump_index[i]:jump_index[i+1]])\n",
    "    c[i] = ctmp/(jump_index[i+1]-jump_index[i])\n",
    "\n",
    "u_snake_sorted = np.repeat(c,np.diff(jump_index))\n",
    "u_snake = u_snake_sorted[phi_inv]"
   ]
  },
  {
   "cell_type": "code",
   "execution_count": 30,
   "id": "81161f21-2eb1-4a83-88ca-db3d60967898",
   "metadata": {},
   "outputs": [
    {
     "data": {
      "text/plain": [
       "array([-0.281, -0.281, -0.281, -0.281, -0.281, -0.281,  0.281,  0.281,  0.281,  0.281,  0.281,  0.281])"
      ]
     },
     "execution_count": 30,
     "metadata": {},
     "output_type": "execute_result"
    }
   ],
   "source": [
    "u_snake_sorted.round(3)"
   ]
  },
  {
   "cell_type": "code",
   "execution_count": 31,
   "id": "58051a34-e327-433e-bc2c-5f35d784d813",
   "metadata": {},
   "outputs": [
    {
     "data": {
      "text/plain": [
       "array([-0.374, -0.374, -0.235, -0.235, -0.235, -0.235,  0.235,  0.235,  0.235,  0.235,  0.374,  0.374])"
      ]
     },
     "execution_count": 31,
     "metadata": {},
     "output_type": "execute_result"
    }
   ],
   "source": [
    "sorted_fiedler_vector"
   ]
  },
  {
   "cell_type": "code",
   "execution_count": null,
   "id": "539f8672-ab1e-4106-ae0a-0cb2b3411c2f",
   "metadata": {},
   "outputs": [],
   "source": []
  }
 ],
 "metadata": {
  "kernelspec": {
   "display_name": "Python 3",
   "language": "python",
   "name": "python3"
  },
  "language_info": {
   "codemirror_mode": {
    "name": "ipython",
    "version": 3
   },
   "file_extension": ".py",
   "mimetype": "text/x-python",
   "name": "python",
   "nbconvert_exporter": "python",
   "pygments_lexer": "ipython3",
   "version": "3.9.1"
  }
 },
 "nbformat": 4,
 "nbformat_minor": 5
}
